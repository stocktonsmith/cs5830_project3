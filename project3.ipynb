{
 "cells": [
  {
   "cell_type": "code",
   "execution_count": 1,
   "metadata": {},
   "outputs": [],
   "source": [
    "# Project 3 notebook\n",
    "\n",
    "# Ideas from John:\n",
    "# Does home country advantage exist in the Olympics?\n",
    "# Which countries have the highest medal rates per competitor?\n",
    "# Do some countries get disqualified more often than others?\n",
    "# How have Olympic performances/scores changed over time?\n",
    "# etc.\n",
    "\n",
    "# https://olympics.com/en/"
   ]
  }
 ],
 "metadata": {
  "kernelspec": {
   "display_name": "Python 3",
   "language": "python",
   "name": "python3"
  },
  "language_info": {
   "codemirror_mode": {
    "name": "ipython",
    "version": 3
   },
   "file_extension": ".py",
   "mimetype": "text/x-python",
   "name": "python",
   "nbconvert_exporter": "python",
   "pygments_lexer": "ipython3",
   "version": "3.9.7"
  }
 },
 "nbformat": 4,
 "nbformat_minor": 2
}
