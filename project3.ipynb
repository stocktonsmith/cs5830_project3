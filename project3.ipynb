{
 "cells": [
  {
   "cell_type": "markdown",
   "metadata": {
    "collapsed": false
   },
   "source": [
    "# Project 3: Doping at the Olympics\n",
    "\n",
    "Doping was banned in 1967 and testing started in 1968. A doping instance is where a team member was caught violating anti-doping rules and action was taken. Team members were primarily athletes but some were not (e.g. Dr. Otto Trefny as medical staff in 1976 Innsbruck). Action was primarily disqualification/banning during or after performance in the games or did not start status prior to the games. Team members caught without action taken are not counted (e.g. East Germany)."
   ]
  },
  {
   "cell_type": "markdown",
   "metadata": {
    "collapsed": false
   },
   "source": [
    "## Setup"
   ]
  },
  {
   "cell_type": "code",
   "execution_count": null,
   "metadata": {},
   "outputs": [],
   "source": [
    "import requests\n",
    "from bs4 import BeautifulSoup\n",
    "import pandas as pd\n",
    "from scipy.stats import pearsonr, ttest_rel\n",
    "import seaborn as sns\n",
    "import matplotlib.pyplot as plt\n",
    "import numpy as np"
   ]
  },
  {
   "cell_type": "markdown",
   "metadata": {
    "collapsed": false
   },
   "source": [
    "## Doping\n",
    "\n",
    "Count the number of doping instances from each country in the Summer Olympic Games and the Winter Olympic Games. Counts come from iterating over tables and table rows."
   ]
  },
  {
   "cell_type": "code",
   "execution_count": null,
   "metadata": {},
   "outputs": [],
   "source": [
    "baseurl = 'https://en.wikipedia.org/api/rest_v1/page/html'\n",
    "headers = {'Api-User-Agent': 'joshua.d.hales@usu.edu'}\n",
    "response = requests.get(f'{baseurl}/Doping_at_the_Olympic_Games/1205569188', headers=headers)\n",
    "FIRST_WINTER_INDEX = 17\n",
    "NUMBER_OF_SUMMER_GAMES = 14\n",
    "NUMBER_OF_WINTER_GAMES = 15\n",
    "\n",
    "if response.status_code == 200:\n",
    "    soup = BeautifulSoup(response.text)\n",
    "    summer_country_dopes = {}\n",
    "    winter_country_dopes = {}\n",
    "    \n",
    "    # This block sums up all mentions of each country in the \"country\" column of the Summer Olympics doping tables.\n",
    "    # Added country names only include the part of the text in the column that is in a hyperlink\n",
    "    # (e.g. \"Russia (RUS)\" gets added as \"Russia\")\n",
    "    tables = soup.find_all('table', {'class': 'wikitable'})\n",
    "    for table in tables[:17]:\n",
    "        rows = table.find_all('tr')\n",
    "        for row in rows:\n",
    "            cells = row.find_all('td')\n",
    "            if cells:\n",
    "                country_cell = cells[1]\n",
    "                country_hyperlink = country_cell.find('a')\n",
    "                if country_hyperlink:\n",
    "                    country_name = country_hyperlink.get_text(strip=True)\n",
    "                    summer_country_dopes[country_name] = summer_country_dopes.get(country_name, 0) + 1\n",
    "\n",
    "    # Same as above, but for winter instead of summer olympics\n",
    "    for table in tables[17:]:\n",
    "        rows = table.find_all('tr')\n",
    "        for row in rows:\n",
    "            cells = row.find_all('td')\n",
    "            if cells:\n",
    "                country_cell = cells[1]\n",
    "                country_hyperlink = country_cell.find('a')\n",
    "                if country_hyperlink:\n",
    "                    country_name = country_hyperlink.get_text(strip=True)\n",
    "                    winter_country_dopes[country_name] = winter_country_dopes.get(country_name, 0) + 1\n",
    "else:\n",
    "    print(\"Failed to retrieve the webpage.\")"
   ]
  },
  {
   "cell_type": "markdown",
   "metadata": {
    "collapsed": false
   },
   "source": [
    "`dopes_per_olympics` uses the number of games from 1968-2022. A game where a country did not participate is counted as 0 doping incidents."
   ]
  },
  {
   "cell_type": "code",
   "execution_count": null,
   "metadata": {
    "collapsed": false,
    "scrolled": true
   },
   "outputs": [],
   "source": [
    "# Assemble scraped data into summer and winter dataframes\n",
    "pd.set_option('display.max_rows', None)\n",
    "summer_dope_df = pd.DataFrame(list(summer_country_dopes.items()), columns=['Country', 'times_caught_doping'])\n",
    "winter_dope_df = pd.DataFrame(list(winter_country_dopes.items()), columns=['Country', 'times_caught_doping'])\n",
    "\n",
    "# Combine summer and winter dataframes into one dataframe\n",
    "summer_dope_df['dopes_per_summer_olympics'] = summer_dope_df['times_caught_doping'] / NUMBER_OF_SUMMER_GAMES\n",
    "winter_dope_df['dopes_per_winter_olympics'] = winter_dope_df['times_caught_doping'] / NUMBER_OF_WINTER_GAMES\n",
    "\n",
    "country_dope_counts = pd.merge(summer_dope_df, winter_dope_df, on='Country', how='outer')\n",
    "# summer_dope_df\n",
    "# winter_dope_df\n",
    "# country_dope_counts"
   ]
  },
  {
   "cell_type": "code",
   "execution_count": null,
   "metadata": {
    "scrolled": true
   },
   "outputs": [],
   "source": [
    "country_dope_counts = country_dope_counts.fillna(0)\n",
    "country_dope_counts['times_caught_doping'] = country_dope_counts['times_caught_doping_x'] + country_dope_counts['times_caught_doping_y']\n",
    "country_dope_counts = country_dope_counts.drop(columns=['times_caught_doping_x', 'times_caught_doping_y'])\n",
    "\n",
    "country_dope_counts['dopes_per_olympics'] = country_dope_counts['times_caught_doping'] / (NUMBER_OF_SUMMER_GAMES + NUMBER_OF_WINTER_GAMES)\n",
    "country_dope_counts = country_dope_counts.sort_values(by='times_caught_doping', ascending=False)\n",
    "# country_dope_counts"
   ]
  },
  {
   "cell_type": "markdown",
   "metadata": {
    "collapsed": false
   },
   "source": [
    "### Doping Instances by Summer vs Winter"
   ]
  },
  {
   "cell_type": "code",
   "execution_count": null,
   "metadata": {
    "collapsed": false
   },
   "outputs": [],
   "source": [
    "# Only show most notable data\n",
    "top_ten_cheaters = country_dope_counts.head(10)\n",
    "positions = np.arange(len(top_ten_cheaters))\n",
    "\n",
    "# Doping Instances Per Olympics bar graph\n",
    "bar_width = 0.35\n",
    "plt.figure(figsize=(12, 6))\n",
    "plt.bar(positions - bar_width/2, top_ten_cheaters['dopes_per_summer_olympics'], bar_width, color='orange', label='Summer Olympics')\n",
    "plt.bar(positions + bar_width/2, top_ten_cheaters['dopes_per_winter_olympics'], bar_width, color='blue', label='Winter Olympics')\n",
    "plt.xticks(positions, top_ten_cheaters['Country'], rotation=45)\n",
    "plt.xlabel('Country')\n",
    "plt.ylabel('Doping Instances Per Olympics')\n",
    "plt.legend()\n",
    "plt.title('Doping Instances Per Olympics of the 10 Countries with the Most Doping Instances')\n",
    "plt.tight_layout()\n",
    "plt.show()"
   ]
  },
  {
   "cell_type": "markdown",
   "metadata": {
    "collapsed": false
   },
   "source": [
    "Compare the average number of instances per country for summer and winter to see if there is a difference. Only use countries that compete in both.\n",
    "\n",
    "Found a p-value of 0.0331 showing a statistically significant difference. We can conclude the average number of instances is not the same for summer vs winter. The t-statistic is 2.3322 showing the average in summer is greater than the average in winter."
   ]
  },
  {
   "cell_type": "code",
   "execution_count": null,
   "metadata": {},
   "outputs": [],
   "source": [
    "# Since half the countries only participate in Summer Olympics, the t-test should only be run on data from countries that do both\n",
    "both_season_dopers = country_dope_counts[(country_dope_counts['dopes_per_summer_olympics'] > 0) & (country_dope_counts['dopes_per_winter_olympics'] > 0)]\n",
    "both_season_dopers = both_season_dopers.sort_values(by='dopes_per_olympics', ascending=False)\n",
    "\n",
    "# Significant p-value found: Doping seems to occur more in Summer olympics vs Winter olympics\n",
    "t_stat, p_value = ttest_rel(both_season_dopers['dopes_per_summer_olympics'], both_season_dopers['dopes_per_winter_olympics'])\n",
    "print(f\"{t_stat=}\\n{p_value=}\")"
   ]
  },
  {
   "cell_type": "markdown",
   "metadata": {
    "collapsed": false
   },
   "source": [
    "## Medals\n",
    "\n",
    "Count the number of each medal for each country. Uses medals from 1896-2022."
   ]
  },
  {
   "cell_type": "code",
   "execution_count": null,
   "metadata": {},
   "outputs": [],
   "source": [
    "# Same as first web scrape, but we are now getting data on medals per country\n",
    "response_medals = requests.get(f'{baseurl}/All-time_Olympic_Games_medal_table/1206551880', headers=headers)\n",
    "\n",
    "if response_medals.status_code == 200:\n",
    "    medal_soup = BeautifulSoup(response_medals.text)\n",
    "    country_medals = {}\n",
    "\n",
    "    main_medal_table = medal_soup.find_all('table', {'class': 'wikitable'})[12]\n",
    "    medal_rows = main_medal_table.find_all('tr')\n",
    "    for medal_row in medal_rows:\n",
    "        medal_cells = medal_row.find_all(['td', 'th'])\n",
    "        if medal_cells:\n",
    "            country_cell_for_medals = medal_cells[1]\n",
    "            country_hyperlink = country_cell_for_medals.find('a')\n",
    "            if country_hyperlink:\n",
    "                country_name_for_medals = country_hyperlink.get_text(strip=True)\n",
    "                country_medals[country_name_for_medals] = {\n",
    "                    'Gold': int(medal_cells[2].text),\n",
    "                    'Silver': int(medal_cells[3].text),\n",
    "                    'Bronze': int(medal_cells[4].text),\n",
    "                    'Total': int(medal_cells[5].text)\n",
    "                }\n",
    "else:\n",
    "    print(\"Failed to retrieve the webpage.\")"
   ]
  },
  {
   "cell_type": "code",
   "execution_count": null,
   "metadata": {
    "collapsed": false,
    "scrolled": true
   },
   "outputs": [],
   "source": [
    "# Merge doping data with medal data\n",
    "country_medals_df = pd.DataFrame(country_medals).T.reset_index()\n",
    "country_medals_df.columns = ['Country', 'Gold', 'Silver', 'Bronze', 'Total']\n",
    "# country_medals_df"
   ]
  },
  {
   "cell_type": "code",
   "execution_count": null,
   "metadata": {
    "scrolled": true
   },
   "outputs": [],
   "source": [
    "all_data = pd.merge(country_dope_counts, country_medals_df, on='Country', how='outer')\n",
    "all_data['medals_per_doper'] = all_data['Total'] / all_data['times_caught_doping']\n",
    "all_data = all_data.sort_values(by='medals_per_doper', ascending=False)\n",
    "# all_data"
   ]
  },
  {
   "cell_type": "markdown",
   "metadata": {
    "collapsed": false
   },
   "source": [
    "### Countries with Medals and No Doping Instances\n",
    "\n",
    "Some countries had no doping instances and earned medals."
   ]
  },
  {
   "cell_type": "code",
   "execution_count": null,
   "metadata": {},
   "outputs": [],
   "source": [
    "# Get data for countries with no recorded doping instances\n",
    "zero_dope_countries = all_data[all_data['times_caught_doping'].isna()]\n",
    "\n",
    "# Bar graph will have separate columns for each medal type\n",
    "top_countries = zero_dope_countries.nlargest(10, 'Total')\n",
    "columns_to_keep = ['Country', 'Total', 'Gold', 'Silver', 'Bronze']\n",
    "top_countries_medals = top_countries[columns_to_keep]\n",
    "melted_df = top_countries_medals.melt(id_vars='Country', var_name='Medal', value_name='Count')\n",
    "\n",
    "# \"Unpunished countries\" bar chart\n",
    "plt.figure(figsize=(10, 6))\n",
    "medal_colors = {'Gold': 'gold', 'Silver': 'silver', 'Bronze': 'peru', 'Total': 'limegreen'}\n",
    "sns.barplot(x='Country', y='Count', hue='Medal', data=melted_df, palette=medal_colors)\n",
    "plt.title('Top 10 Unpunished Countries with the Most Medals')\n",
    "plt.xlabel('Country')\n",
    "plt.ylabel('Medal Count')\n",
    "plt.xticks(rotation=45, ha='right')\n",
    "plt.tight_layout()\n",
    "plt.legend(title='Medal Type')\n",
    "plt.show()"
   ]
  },
  {
   "cell_type": "markdown",
   "metadata": {
    "collapsed": false
   },
   "source": [
    "### Medals by Doping Instances"
   ]
  },
  {
   "cell_type": "code",
   "execution_count": null,
   "metadata": {},
   "outputs": [],
   "source": [
    "# This gets rid of non-dopers and also gets rid of non-medalists\n",
    "dope_countries = all_data.dropna()\n",
    "\n",
    "# Medal Count v Dope Count scatterplot\n",
    "plt.figure(figsize=(10, 6))\n",
    "sns.regplot(x='times_caught_doping', y='Total', data=dope_countries, color=\"red\")\n",
    "plt.title('Total Olympic Medals By Country vs Doping Instances')\n",
    "plt.xlabel('Doping Instances')\n",
    "plt.ylabel('Total Medals')\n",
    "plt.tight_layout()\n",
    "plt.show()\n",
    "\n",
    "# No significant relationship between medal count and doping count\n",
    "corr_coeff, p_value = pearsonr(dope_countries['times_caught_doping'], dope_countries['Total'])\n",
    "print(f\"{corr_coeff=}\\n{p_value=}\")"
   ]
  },
  {
   "cell_type": "code",
   "execution_count": null,
   "metadata": {},
   "outputs": [],
   "source": [
    "# Medal Count v Medals per Doper scatterplot\n",
    "plt.figure(figsize=(10, 6))\n",
    "sns.regplot(x='medals_per_doper', y='Total', data=dope_countries, color=\"green\")\n",
    "plt.title('Total Olympic Medals By Country vs Medals Per Doping Instance')\n",
    "plt.xlabel('Medals Per Doping Instance')\n",
    "plt.ylabel('Total Medals')\n",
    "plt.tight_layout()\n",
    "plt.show()\n",
    "\n",
    "# Significant relationship between medal count and medals per doper\n",
    "corr_coeff, p_value = pearsonr(dope_countries['medals_per_doper'], dope_countries['Total'])\n",
    "print(f\"{corr_coeff=}\\n{p_value=}\")"
   ]
  }
 ],
 "metadata": {
  "kernelspec": {
   "display_name": "Python 3",
   "language": "python",
   "name": "python3"
  },
  "language_info": {
   "codemirror_mode": {
    "name": "ipython",
    "version": 3
   },
   "file_extension": ".py",
   "mimetype": "text/x-python",
   "name": "python",
   "nbconvert_exporter": "python",
   "pygments_lexer": "ipython3",
   "version": "3.11.8"
  }
 },
 "nbformat": 4,
 "nbformat_minor": 2
}
